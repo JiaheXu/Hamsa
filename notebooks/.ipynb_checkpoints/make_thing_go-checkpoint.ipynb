{
 "cells": [
  {
   "cell_type": "markdown",
   "id": "68a8a274",
   "metadata": {},
   "source": [
    "### Load the image recognition model\n",
    "<code>trt_hand_dir</code> points to the directory where [trt_pose_hand](https://github.com/NVIDIA-AI-IOT/trt_pose_hand/) is saved."
   ]
  },
  {
   "cell_type": "code",
   "execution_count": 1,
   "id": "5f868a8b",
   "metadata": {},
   "outputs": [],
   "source": [
    "import sys\n",
    "trt_hand_dir = '/home/kiran/trt_pose_hand'\n",
    "sys.path.append(trt_hand_dir)"
   ]
  },
  {
   "cell_type": "code",
   "execution_count": 2,
   "id": "9a8e270e",
   "metadata": {},
   "outputs": [],
   "source": [
    "import trt_pose_hand\n",
    "from preprocessdata import preprocessdata\n",
    "hand_model = trt_pose_hand.Model()\n",
    "hand_model.setup(trt_hand_dir, preprocessdata)"
   ]
  },
  {
   "cell_type": "markdown",
   "id": "12d8c0d9",
   "metadata": {},
   "source": [
    "### Load camera and image container"
   ]
  },
  {
   "cell_type": "code",
   "execution_count": 3,
   "id": "d987f0b8",
   "metadata": {},
   "outputs": [],
   "source": [
    "from jetcam.usb_camera import USBCamera\n",
    "from jetcam.csi_camera import CSICamera\n",
    "from jetcam.utils import bgr8_to_jpeg\n",
    "\n",
    "# camera = USBCamera(width=WIDTH, height=HEIGHT, capture_fps=30, capture_device=1)\n",
    "# camera = CSICamera(width=100, height=100, capture_fps=30)\n",
    "camera = CSICamera(width=hand_model.WIDTH, height=hand_model.HEIGHT, capture_fps=30)"
   ]
  },
  {
   "cell_type": "code",
   "execution_count": 4,
   "id": "e39395dd",
   "metadata": {},
   "outputs": [
    {
     "data": {
      "application/vnd.jupyter.widget-view+json": {
       "model_id": "018bb5a3a1f44c62bb4e7494ce150f9a",
       "version_major": 2,
       "version_minor": 0
      },
      "text/plain": [
       "Image(value=b'', format='jpeg', height='224', width='224')"
      ]
     },
     "metadata": {},
     "output_type": "display_data"
    }
   ],
   "source": [
    "import ipywidgets\n",
    "from IPython.display import display\n",
    "\n",
    "image_w = ipywidgets.Image(format='jpeg', width=224, height=224)\n",
    "display(image_w)"
   ]
  },
  {
   "cell_type": "code",
   "execution_count": 5,
   "id": "e1a9e576",
   "metadata": {},
   "outputs": [],
   "source": [
    "def get_gesture(change):\n",
    "    image = change['new']\n",
    "    data = hand_model.preprocess(image)\n",
    "    cmap, paf = hand_model.model_trt(data)\n",
    "    cmap, paf = cmap.detach().cpu(), paf.detach().cpu()\n",
    "    counts, objects, peaks = hand_model.parse_objects(cmap, paf)\n",
    "    joints = hand_model.preprocess_data.joints_inference(image, counts, objects, peaks)\n",
    "    hand_model.draw_joints(image, joints)\n",
    "    #hand_model.draw_objects(image, counts, objects, peaks)\n",
    "    dist_bn_joints = hand_model.preprocess_data.find_distance(joints)\n",
    "    gesture = hand_model.clf.predict([dist_bn_joints,[0]*hand_model.num_parts*hand_model.num_parts])\n",
    "    gesture_joints = gesture[0]\n",
    "    hand_model.preprocess_data.prev_queue.append(gesture_joints)\n",
    "    hand_model.preprocess_data.prev_queue.pop(0)\n",
    "    hand_model.preprocess_data.print_label(image, hand_model.preprocess_data.prev_queue, hand_model.gesture_type)\n",
    "    image_w.value = bgr8_to_jpeg(image)\n",
    "    with open('jetcam.jpeg', 'wb') as f:\n",
    "        f.write(image_w.value)\n",
    "    return hand_model.gesture_type[gesture_joints-1]"
   ]
  },
  {
   "cell_type": "code",
   "execution_count": 6,
   "id": "4c0d465a",
   "metadata": {},
   "outputs": [],
   "source": [
    "from time import sleep\n",
    "import datetime as dt\n",
    "import pyrobot\n",
    "\n",
    "thing = pyrobot.Hand()"
   ]
  },
  {
   "cell_type": "code",
   "execution_count": 38,
   "id": "2a564350",
   "metadata": {},
   "outputs": [],
   "source": [
    "def fist(time):\n",
    "    clear_thumb()\n",
    "    idle_wiggle()\n",
    "    delay = .2\n",
    "    thing.curl_pinky(0, time)\n",
    "    sleep(delay)\n",
    "    thing.curl_ring(0, time)\n",
    "    sleep(delay)\n",
    "    thing.curl_middle(0, time)\n",
    "    sleep(delay)\n",
    "    thing.curl_index(0, time)\n",
    "    sleep(delay)\n",
    "    thing.wiggle_thumb(0,time)\n",
    "    sleep(.1)\n",
    "    thing.curl_thumb(0.2,time)  \n",
    "    sleep(time/1000)    "
   ]
  },
  {
   "cell_type": "code",
   "execution_count": 39,
   "id": "b6c671d5",
   "metadata": {},
   "outputs": [],
   "source": [
    "def stop(time):\n",
    "    clear_thumb()\n",
    "    idle_wiggle()\n",
    "    flick_up(['pinky','ring','index','middle'], time)\n",
    "    thing.curl_thumb(1,time)  \n",
    "    thing.wiggle_thumb(0,time)\n",
    "    sleep(time/1000)\n",
    "    thing.curl_wrist(.6, 400)"
   ]
  },
  {
   "cell_type": "code",
   "execution_count": 40,
   "id": "15700b9e",
   "metadata": {},
   "outputs": [],
   "source": [
    "def ok(time):\n",
    "    clear_thumb()\n",
    "    idle_wiggle()\n",
    "    delay = .1\n",
    "    flick_up(['pinky','ring','middle'], 500)\n",
    "    sleep(delay)\n",
    "    thing.curl_index(.25,time)\n",
    "    sleep(delay)\n",
    "    thing.wiggle_thumb(.7,time)\n",
    "    thing.curl_thumb(.13,time)\n",
    "    thing.curl_wrist(.6, 400)"
   ]
  },
  {
   "cell_type": "code",
   "execution_count": 72,
   "id": "000b6917",
   "metadata": {},
   "outputs": [],
   "source": [
    "def peace(time):\n",
    "    clear_thumb()\n",
    "    idle_wiggle()\n",
    "    delay = .1\n",
    "    flick_up(['middle', 'index'], time)\n",
    "    sleep(delay)\n",
    "    thing.wiggle_middle(.7,100)\n",
    "    thing.wiggle_index(.3,100)\n",
    "    thing.curl_pinky(.25,time)\n",
    "    sleep(delay)\n",
    "    thing.curl_ring(.25,time)\n",
    "    sleep(delay)\n",
    "    thing.wiggle_thumb(.5,time)\n",
    "    thing.curl_thumb(0,time)\n",
    "    thing.curl_wrist(.6, 400)    "
   ]
  },
  {
   "cell_type": "code",
   "execution_count": 85,
   "id": "f3a44409",
   "metadata": {},
   "outputs": [],
   "source": [
    "def pan(time):\n",
    "    clear_thumb()\n",
    "    idle_wiggle()\n",
    "    delay = .1\n",
    "    flick_up(['index'], time)\n",
    "    sleep(delay)\n",
    "    thing.curl_pinky(.25,time)\n",
    "    sleep(delay)\n",
    "    thing.curl_ring(.25,time)\n",
    "    sleep(delay)\n",
    "    thing.curl_middle(.25,time)\n",
    "    sleep(delay)\n",
    "    thing.wiggle_thumb(.5,time)\n",
    "    thing.curl_thumb(0,time)\n",
    "    thing.curl_wrist(.6, 400) "
   ]
  },
  {
   "cell_type": "code",
   "execution_count": 10,
   "id": "630d8de7",
   "metadata": {},
   "outputs": [],
   "source": [
    "def clear_thumb():\n",
    "    if thing.curl_thumb_pos() < 0.19:\n",
    "        thing.curl_thumb(.19,100)\n",
    "        sleep(.1)"
   ]
  },
  {
   "cell_type": "code",
   "execution_count": 19,
   "id": "4d281ce9",
   "metadata": {},
   "outputs": [],
   "source": [
    "def flick_up(fingers, time):\n",
    "    thing.curl_wrist(0.65, time)\n",
    "    for fin in fingers:\n",
    "        if fin is 'pinky':\n",
    "            thing.curl_pinky(1,time)\n",
    "        if fin is 'ring':\n",
    "            thing.curl_ring(1,time)\n",
    "        if fin is 'middle':\n",
    "            thing.curl_middle(1,time)\n",
    "        if fin is 'index':\n",
    "            thing.curl_index(1,time)\n",
    "        sleep(.1)"
   ]
  },
  {
   "cell_type": "code",
   "execution_count": 28,
   "id": "01f55fc1",
   "metadata": {},
   "outputs": [],
   "source": [
    "def rock_on():\n",
    "    thing.curl_ring(0,500)\n",
    "    thing.curl_middle(0,500)\n",
    "    thing.wiggle_thumb(.8,500)\n",
    "    thing.curl_thumb(0,500)\n",
    "    while True:\n",
    "        thing.curl_wrist(.8,900)\n",
    "        sleep(.9)\n",
    "        thing.curl_wrist(.2,900)\n",
    "        sleep(.9)"
   ]
  },
  {
   "cell_type": "code",
   "execution_count": 41,
   "id": "ee28c7ba",
   "metadata": {},
   "outputs": [],
   "source": [
    "def idle(time):\n",
    "    idle_wiggle()\n",
    "    clear_thumb()\n",
    "    flick_up(['pinky','ring','middle','index'], time)\n",
    "    thing.wiggle_thumb(0,100)\n",
    "    thing.curl_thumb(1,time)\n",
    "    sleep(.3)\n",
    "    thing.curl_wrist(.6,100)"
   ]
  },
  {
   "cell_type": "code",
   "execution_count": 42,
   "id": "6a0b6dca",
   "metadata": {},
   "outputs": [],
   "source": [
    "def idle_wiggle():\n",
    "    thing.wiggle_middle(0.6,100)\n",
    "    thing.wiggle_pinky(0.5,100)\n",
    "    thing.wiggle_ring(.45,100)\n",
    "    thing.wiggle_index(.5,100)   "
   ]
  },
  {
   "cell_type": "code",
   "execution_count": 89,
   "id": "6877f2ce",
   "metadata": {},
   "outputs": [
    {
     "name": "stdout",
     "output_type": "stream",
     "text": [
      "['fist', 'pan', 'stop', 'peace', 'ok', 'no hand', 'no hand']\n",
      "no hand               \r"
     ]
    },
    {
     "ename": "KeyboardInterrupt",
     "evalue": "",
     "output_type": "error",
     "traceback": [
      "\u001b[0;31m---------------------------------------------------------------------------\u001b[0m",
      "\u001b[0;31mKeyboardInterrupt\u001b[0m                         Traceback (most recent call last)",
      "\u001b[0;32m<ipython-input-89-70b64c2f8217>\u001b[0m in \u001b[0;36m<module>\u001b[0;34m\u001b[0m\n\u001b[1;32m      6\u001b[0m \u001b[0;32mwhile\u001b[0m \u001b[0;32mTrue\u001b[0m\u001b[0;34m:\u001b[0m\u001b[0;34m\u001b[0m\u001b[0;34m\u001b[0m\u001b[0m\n\u001b[1;32m      7\u001b[0m     \u001b[0mlast_gesture\u001b[0m \u001b[0;34m=\u001b[0m \u001b[0mthis_gesture\u001b[0m\u001b[0;34m\u001b[0m\u001b[0;34m\u001b[0m\u001b[0m\n\u001b[0;32m----> 8\u001b[0;31m     \u001b[0mthis_gesture\u001b[0m \u001b[0;34m=\u001b[0m \u001b[0mget_gesture\u001b[0m\u001b[0;34m(\u001b[0m\u001b[0;34m{\u001b[0m\u001b[0;34m'new'\u001b[0m\u001b[0;34m:\u001b[0m \u001b[0mcamera\u001b[0m\u001b[0;34m.\u001b[0m\u001b[0mvalue\u001b[0m\u001b[0;34m}\u001b[0m\u001b[0;34m)\u001b[0m\u001b[0;34m\u001b[0m\u001b[0;34m\u001b[0m\u001b[0m\n\u001b[0m\u001b[1;32m      9\u001b[0m     \u001b[0;32mif\u001b[0m \u001b[0mthis_gesture\u001b[0m \u001b[0;32mis\u001b[0m \u001b[0;32mnot\u001b[0m \u001b[0mlast_gesture\u001b[0m\u001b[0;34m:\u001b[0m\u001b[0;34m\u001b[0m\u001b[0;34m\u001b[0m\u001b[0m\n\u001b[1;32m     10\u001b[0m         \u001b[0mlast_change\u001b[0m \u001b[0;34m=\u001b[0m \u001b[0mdt\u001b[0m\u001b[0;34m.\u001b[0m\u001b[0mdatetime\u001b[0m\u001b[0;34m.\u001b[0m\u001b[0mnow\u001b[0m\u001b[0;34m(\u001b[0m\u001b[0;34m)\u001b[0m\u001b[0;34m\u001b[0m\u001b[0;34m\u001b[0m\u001b[0m\n",
      "\u001b[0;32m<ipython-input-5-855b31bbd32f>\u001b[0m in \u001b[0;36mget_gesture\u001b[0;34m(change)\u001b[0m\n\u001b[1;32m      3\u001b[0m     \u001b[0mdata\u001b[0m \u001b[0;34m=\u001b[0m \u001b[0mhand_model\u001b[0m\u001b[0;34m.\u001b[0m\u001b[0mpreprocess\u001b[0m\u001b[0;34m(\u001b[0m\u001b[0mimage\u001b[0m\u001b[0;34m)\u001b[0m\u001b[0;34m\u001b[0m\u001b[0;34m\u001b[0m\u001b[0m\n\u001b[1;32m      4\u001b[0m     \u001b[0mcmap\u001b[0m\u001b[0;34m,\u001b[0m \u001b[0mpaf\u001b[0m \u001b[0;34m=\u001b[0m \u001b[0mhand_model\u001b[0m\u001b[0;34m.\u001b[0m\u001b[0mmodel_trt\u001b[0m\u001b[0;34m(\u001b[0m\u001b[0mdata\u001b[0m\u001b[0;34m)\u001b[0m\u001b[0;34m\u001b[0m\u001b[0;34m\u001b[0m\u001b[0m\n\u001b[0;32m----> 5\u001b[0;31m     \u001b[0mcmap\u001b[0m\u001b[0;34m,\u001b[0m \u001b[0mpaf\u001b[0m \u001b[0;34m=\u001b[0m \u001b[0mcmap\u001b[0m\u001b[0;34m.\u001b[0m\u001b[0mdetach\u001b[0m\u001b[0;34m(\u001b[0m\u001b[0;34m)\u001b[0m\u001b[0;34m.\u001b[0m\u001b[0mcpu\u001b[0m\u001b[0;34m(\u001b[0m\u001b[0;34m)\u001b[0m\u001b[0;34m,\u001b[0m \u001b[0mpaf\u001b[0m\u001b[0;34m.\u001b[0m\u001b[0mdetach\u001b[0m\u001b[0;34m(\u001b[0m\u001b[0;34m)\u001b[0m\u001b[0;34m.\u001b[0m\u001b[0mcpu\u001b[0m\u001b[0;34m(\u001b[0m\u001b[0;34m)\u001b[0m\u001b[0;34m\u001b[0m\u001b[0;34m\u001b[0m\u001b[0m\n\u001b[0m\u001b[1;32m      6\u001b[0m     \u001b[0mcounts\u001b[0m\u001b[0;34m,\u001b[0m \u001b[0mobjects\u001b[0m\u001b[0;34m,\u001b[0m \u001b[0mpeaks\u001b[0m \u001b[0;34m=\u001b[0m \u001b[0mhand_model\u001b[0m\u001b[0;34m.\u001b[0m\u001b[0mparse_objects\u001b[0m\u001b[0;34m(\u001b[0m\u001b[0mcmap\u001b[0m\u001b[0;34m,\u001b[0m \u001b[0mpaf\u001b[0m\u001b[0;34m)\u001b[0m\u001b[0;34m\u001b[0m\u001b[0;34m\u001b[0m\u001b[0m\n\u001b[1;32m      7\u001b[0m     \u001b[0mjoints\u001b[0m \u001b[0;34m=\u001b[0m \u001b[0mhand_model\u001b[0m\u001b[0;34m.\u001b[0m\u001b[0mpreprocess_data\u001b[0m\u001b[0;34m.\u001b[0m\u001b[0mjoints_inference\u001b[0m\u001b[0;34m(\u001b[0m\u001b[0mimage\u001b[0m\u001b[0;34m,\u001b[0m \u001b[0mcounts\u001b[0m\u001b[0;34m,\u001b[0m \u001b[0mobjects\u001b[0m\u001b[0;34m,\u001b[0m \u001b[0mpeaks\u001b[0m\u001b[0;34m)\u001b[0m\u001b[0;34m\u001b[0m\u001b[0;34m\u001b[0m\u001b[0m\n",
      "\u001b[0;31mKeyboardInterrupt\u001b[0m: "
     ]
    }
   ],
   "source": [
    "camera.running = True\n",
    "print(hand_model.gesture_type)\n",
    "this_gesture = ''\n",
    "current_gesture = ''\n",
    "last_change = dt.datetime.now()\n",
    "while True:\n",
    "    last_gesture = this_gesture\n",
    "    this_gesture = get_gesture({'new': camera.value})\n",
    "    if this_gesture is not last_gesture:\n",
    "        last_change = dt.datetime.now()\n",
    "    long_enough = (dt.datetime.now()-last_change).total_seconds() > .7\n",
    "    if long_enough and (this_gesture is not current_gesture):\n",
    "        print(f'{this_gesture}               ', end='\\r')\n",
    "        if this_gesture == 'fist':\n",
    "            fist(700)\n",
    "            current_gesture = this_gesture\n",
    "        if this_gesture == 'stop':\n",
    "            idle(700)\n",
    "            current_gesture = this_gesture\n",
    "        if this_gesture == 'ok':\n",
    "            ok(700)\n",
    "            current_gesture = this_gesture\n",
    "        if this_gesture == 'peace':\n",
    "            peace(700)\n",
    "            current_gesture = this_gesture\n",
    "        if this_gesture == 'pan':\n",
    "            pan(700)\n",
    "            current_gesture = this_gesture"
   ]
  },
  {
   "cell_type": "code",
   "execution_count": 90,
   "id": "408bc1ae",
   "metadata": {},
   "outputs": [],
   "source": [
    "camera.running = False"
   ]
  }
 ],
 "metadata": {
  "kernelspec": {
   "display_name": "Python 3",
   "language": "python",
   "name": "python3"
  },
  "language_info": {
   "codemirror_mode": {
    "name": "ipython",
    "version": 3
   },
   "file_extension": ".py",
   "mimetype": "text/x-python",
   "name": "python",
   "nbconvert_exporter": "python",
   "pygments_lexer": "ipython3",
   "version": "3.9.5"
  }
 },
 "nbformat": 4,
 "nbformat_minor": 5
}
