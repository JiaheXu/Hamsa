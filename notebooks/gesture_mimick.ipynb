{
 "cells": [
  {
   "cell_type": "markdown",
   "id": "3512ff9d",
   "metadata": {},
   "source": [
    "# Robot Nano Hand"
   ]
  },
  {
   "cell_type": "markdown",
   "id": "766a3f80",
   "metadata": {},
   "source": [
    "### First lets import the hamsa libraries"
   ]
  },
  {
   "cell_type": "code",
   "execution_count": null,
   "id": "f7b2e73e",
   "metadata": {},
   "outputs": [],
   "source": [
    "from hamsa import mimic\n",
    "from hamsa import firmware"
   ]
  },
  {
   "cell_type": "markdown",
   "id": "0ca54fb1",
   "metadata": {},
   "source": [
    "### Next we need to get the image recognition model, a connection to the camera and an instance of the hand firmware."
   ]
  },
  {
   "cell_type": "code",
   "execution_count": null,
   "id": "dd84efb5",
   "metadata": {},
   "outputs": [],
   "source": [
    "hand_model = mimic.get_pose_model()\n",
    "camera_and_container = mimic.get_camera_and_container(hand_model)\n",
   ]
  },
  {
   "cell_type": "markdown",
   "id": "e5a0809e",
   "metadata": {},
   "source": [
    "\n",
    "### Finally lets run the mimicing demo"
   ]
  },
  {
   "cell_type": "code",
   "execution_count": null,
   "id": "48e71ab3",
   "metadata": {},
   "outputs": [],
   "source": [
    "mimic.run_mimic(hand_model, camera_and_container)"
   ]
  }
 ],
 "metadata": {
  "kernelspec": {
   "display_name": "Python 3 (ipykernel)",
   "language": "python",
   "name": "python3"
  },
  "language_info": {
   "codemirror_mode": {
    "name": "ipython",
    "version": 3
   },
   "file_extension": ".py",
   "mimetype": "text/x-python",
   "name": "python",
   "nbconvert_exporter": "python",
   "pygments_lexer": "ipython3",
   "version": "3.10.1"
  }
 },
 "nbformat": 4,
 "nbformat_minor": 5
}
